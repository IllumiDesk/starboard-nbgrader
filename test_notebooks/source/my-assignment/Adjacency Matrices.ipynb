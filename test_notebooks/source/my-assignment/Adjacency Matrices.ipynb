{
 "cells": [
  {
   "cell_type": "markdown",
   "id": "b937698e",
   "metadata": {},
   "source": [
    "# Basic Numpy\n",
    "\n",
    "In this assignment we will explore some basic numpy assignments. "
   ]
  },
  {
   "cell_type": "markdown",
   "id": "5cf588d9",
   "metadata": {
    "nbgrader": {
     "grade": false,
     "grade_id": "cell-233910600664e30b",
     "locked": true,
     "schema_version": 3,
     "solution": false,
     "task": false
    }
   },
   "source": [
    "We are building an airline routing system, we want to know how many ways there are to reach airport $b$ from airport $a$ in $K$ flights.\n",
    "\n",
    "Given an $N \\times N$ adjacency matrix $M$, write an algorithm that works out how many paths of length $K$ exist from any given node to another. The answer should be represented as a $N \\times N$ matrix with $ N_{ab} $ being the amount of paths from node $a$ to node $b$.\n",
    "\n",
    "This cell can not be edited."
   ]
  },
  {
   "cell_type": "code",
   "execution_count": 8,
   "id": "86c29426",
   "metadata": {
    "nbgrader": {
     "grade": false,
     "grade_id": "cell-02baf050bea44f2a",
     "locked": false,
     "schema_version": 3,
     "solution": true,
     "task": false
    }
   },
   "outputs": [],
   "source": [
    "import numpy as np\n",
    "\n",
    "def reachable(m, k):\n",
    "    ### BEGIN SOLUTION\n",
    "    return np.linalg.matrix_power(m, k)\n",
    "    ### END SOLUTION"
   ]
  },
  {
   "cell_type": "code",
   "execution_count": 44,
   "id": "855e3d39",
   "metadata": {
    "nbgrader": {
     "grade": true,
     "grade_id": "cell-9c47b3c11ef9d1b0",
     "locked": true,
     "points": 3,
     "schema_version": 3,
     "solution": false,
     "task": false
    }
   },
   "outputs": [],
   "source": [
    "flight_network_m = np.array([[0, 0, 0], [1, 0, 1], [1, 1, 1]])\n",
    "\n",
    "np.testing.assert_array_equal(\n",
    "    np.eye(3), reachable(flight_network_m, 0),\n",
    "    \"With 0 steps only the current node should be reachable\"\n",
    ")\n",
    "\n",
    "np.testing.assert_array_equal(\n",
    "    flight_network_m, reachable(flight_network_m, 1),\n",
    "    \"One step should equal the input adjacency matrix\"\n",
    ")\n",
    "\n",
    "np.testing.assert_array_equal(\n",
    "    np.array([[0,0,0],[2,1,2],[3,2,3]]), reachable(flight_network_m, 3),\n",
    "    \"One step should equal the input adjacency matrix\"\n",
    ")"
   ]
  },
  {
   "cell_type": "markdown",
   "id": "cf76e731",
   "metadata": {
    "nbgrader": {
     "grade": false,
     "grade_id": "cell-0caf893474615543",
     "locked": true,
     "schema_version": 3,
     "solution": false,
     "task": false
    }
   },
   "source": [
    "Visualize the graph defined by `flight_network_m` using your favorite plotting library in the cell below"
   ]
  },
  {
   "cell_type": "code",
   "execution_count": 55,
   "id": "5a01c308",
   "metadata": {
    "nbgrader": {
     "grade": true,
     "grade_id": "cell-4ba6195442b48c46",
     "locked": false,
     "points": 2,
     "schema_version": 3,
     "solution": true,
     "task": false
    }
   },
   "outputs": [
    {
     "data": {
      "text/plain": [
       "<matplotlib.image.AxesImage at 0x2af763486a0>"
      ]
     },
     "execution_count": 55,
     "metadata": {},
     "output_type": "execute_result"
    },
    {
     "data": {
      "image/png": "[encoded data removed]",
      "text/plain": [
       "<Figure size 432x288 with 1 Axes>"
      ]
     },
     "metadata": {
      "needs_background": "light"
     },
     "output_type": "display_data"
    }
   ],
   "source": [
    "### BEGIN SOLUTION\n",
    "import matplotlib.pyplot as plt\n",
    "plt.imshow(flight_network_m)\n",
    "### END SOLUTION"
   ]
  },
  {
   "cell_type": "markdown",
   "id": "92c60947",
   "metadata": {
    "nbgrader": {
     "grade": false,
     "grade_id": "cell-f90bec049b713924",
     "locked": true,
     "points": 0,
     "schema_version": 3,
     "solution": false,
     "task": true
    }
   },
   "source": [
    "Finally this is a manually graded task worth 1 point, it should not be possible to edit this cell."
   ]
  }
 ],
 "metadata": {
  "celltoolbar": "Create Assignment",
  "kernelspec": {
   "display_name": "Python 3",
   "language": "python",
   "name": "python3"
  },
  "language_info": {
   "codemirror_mode": {
    "name": "ipython",
    "version": 3
   },
   "file_extension": ".py",
   "mimetype": "text/x-python",
   "name": "python",
   "nbconvert_exporter": "python",
   "pygments_lexer": "ipython3",
   "version": "3.9.4"
  }
 },
 "nbformat": 4,
 "nbformat_minor": 5
}

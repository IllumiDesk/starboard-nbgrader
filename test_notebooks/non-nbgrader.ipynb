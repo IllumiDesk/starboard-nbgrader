{
 "cells": [
  {
   "cell_type": "markdown",
   "metadata": {},
   "source": [
    "# NumPy, matplotlib and the van der Waals Equation of State isotherms.\n",
    "This notebook intends to present van der Waals's Equation of State([wikipedia](https://en.wikipedia.org/wiki/Van_der_Waals_equation),[nobel prize lecture](http://www.nobelprize.org/nobel_prizes/physics/laureates/1910/waals-lecture.pdf)) and its isotherms in the Pressure-Volume diagram.\n",
    "\n",
    "> **Here you will meet the following topics:**\n",
    ">- Thermodynamics: `EoS isotherms`.\n",
    ">- Python: `matplotlib.pyplot`, `numpy`.\n",
    ">- Jupyter Notebook: `magic command`, `interactive plotting`.\n"
   ]
  },
  {
   "cell_type": "markdown",
   "metadata": {},
   "source": [
    "Supose you have to solve the following assignment in a thermodynamics course:\n",
    ">\"Plot the isotherm of van de Waals - EoS for some pure component at different values of T and comment on the sub-critical and super-critical behavior.\""
   ]
  },
  {
   "cell_type": "markdown",
   "metadata": {},
   "source": [
    "Here we will use some resources of the packages numpy and matplotlib. numpy is \"the fundamental package for scientific computing with Python\".\n",
    "To import a module into our notebook we use the following syntax:"
   ]
  },
  {
   "cell_type": "code",
   "execution_count": 1,
   "metadata": {
    "collapsed": true
   },
   "outputs": [],
   "source": [
    "import numpy as np #this line imports the module numpy \"the fundamental package for scientific computing with Python\"\n",
    "#import <-- keyword import\n",
    "       #numpy <-- name of the package\n",
    "             #as <-- the keyword \"as\" i sused to introduce an alias\n",
    "                #np <-- the alias name that we wish to use to refer to that module"
   ]
  },
  {
   "cell_type": "markdown",
   "metadata": {},
   "source": [
    "In order to use any function of this module, we have to write `alias_name.function_name`. As an example, we will see function `np.linspace` that will be used in the following cells.\n",
    "\n",
    "We will also use matplotlib, a python 2D plotting library which produces publication quality figures in a variety of hardcopy formats and interactive environments across platforms.\n",
    "We will be particularly interested in the pyplot interface."
   ]
  },
  {
   "cell_type": "code",
   "execution_count": 2,
   "metadata": {
    "collapsed": true
   },
   "outputs": [],
   "source": [
    "import matplotlib.pyplot as plt #this line imports the module pyplot from the package matplotlib\n",
    "#import <-- keyword import\n",
    "       #matplotlib <-- name of the whole package\n",
    "                 #. <-- this dot designates posession: pyplot belongs to matplotlib\n",
    "                  #pyplot <-- name of the module in matplotlib\n",
    "                         #as <-- the keyword \"as\" i sused to introduce an alias\n",
    "                            #plt <-- the alias name that we wish to use to refer to that module"
   ]
  },
  {
   "cell_type": "markdown",
   "metadata": {},
   "source": [
    "From matplotlib, we will be most interested in the pyplot submodule. We will use its functions and, in order to do that, syntax will follow the same structure mentioned above: `alias_name.submodule_name.function_name`"
   ]
  },
  {
   "cell_type": "code",
   "execution_count": 3,
   "metadata": {
    "collapsed": true
   },
   "outputs": [],
   "source": [
    "%matplotlib inline\n",
    "#this is an Ipython \"magic command\". This performs the necessary behind-the-scenes setup for IPython to work correctly hand in hand with matplotlib;\n",
    "#With this backend, the output of plotting commands is displayed inline within frontends like the Jupyter notebook, directly below the code cell that produced it. The resulting plots will then also be stored in the notebook document\n",
    "\n",
    "#you can try commenting the previous magic command and enabling the following\n",
    "#%matplotlib notebook\n",
    "#this command allows interactive figures, if your environment is suitable for it."
   ]
  },
  {
   "cell_type": "markdown",
   "metadata": {},
   "source": [
    "Consider the *van der Waals* equation of state (Reid et al., 1987 - see Eq 3-6.1 and Table 3-5, line 1)\n",
    "\n",
    "$P=\\frac{RT}{{\\bar{V}}-b}-\\frac{a}{{\\bar{V}}^2}$\n",
    "\n",
    "$a=\\frac{27}{64}\\frac{{{Tc}^2}{R^2}}{Pc}$\n",
    "\n",
    "\n",
    "$b=\\frac{{R}{Tc}}{{8}{Pc}}$\n",
    "\n",
    "where $R$ is the gas constant: \n",
    "\n",
    "$R = 8.3144598 \\mathrm{{J} {mol^{−1}} {K^{−1}}}$\n",
    "\n",
    "Here, we will use hexane as an example. Its critical properties are: \n",
    "\n",
    "$Tc = 507.5 \\mathrm{K}$\n",
    "\n",
    "\n",
    "$Pc = 30.1 \\times {10^5} \\mathrm{Pa}$\n",
    "\n",
    "So let's code this information:"
   ]
  },
  {
   "cell_type": "markdown",
   "metadata": {},
   "source": [
    "First, we assign the value of the universal gas constant ($R$) to the variable named `R`"
   ]
  },
  {
   "cell_type": "code",
   "execution_count": 4,
   "metadata": {
    "collapsed": true
   },
   "outputs": [],
   "source": [
    "#gas constant\n",
    "R = 8.3144598 #J.mol^−1.K^−1"
   ]
  },
  {
   "cell_type": "markdown",
   "metadata": {},
   "source": [
    "Now, we assign the values of the critical properties of hexane ($Tc$ and $Pc$) to variables `Tc` and `Pc`."
   ]
  },
  {
   "cell_type": "code",
   "execution_count": 5,
   "metadata": {
    "collapsed": true
   },
   "outputs": [],
   "source": [
    "#pure component critical point of hexane\n",
    "# Tc (K)\n",
    "Tc = 507.5 #K\n",
    "\n",
    "# Pc (Pa)\n",
    "Pc = 30.1*(10**5) #Pa"
   ]
  },
  {
   "cell_type": "markdown",
   "metadata": {},
   "source": [
    "Finally, we create variables `a` and `b` for the EoS parameters $a$ and $b$."
   ]
  },
  {
   "cell_type": "code",
   "execution_count": 6,
   "metadata": {
    "collapsed": false
   },
   "outputs": [
    {
     "name": "stdout",
     "output_type": "stream",
     "text": [
      "2.4954993637433445\n"
     ]
    }
   ],
   "source": [
    "a = 27/64*((Tc**2)*(R**2)/Pc)\n",
    "print(a)"
   ]
  },
  {
   "cell_type": "code",
   "execution_count": 7,
   "metadata": {
    "collapsed": false
   },
   "outputs": [
    {
     "name": "stdout",
     "output_type": "stream",
     "text": [
      "0.0001752320742732558\n"
     ]
    }
   ],
   "source": [
    "b = (R*Tc)/(8*Pc)\n",
    "print(b)"
   ]
  },
  {
   "cell_type": "markdown",
   "metadata": {},
   "source": [
    "Once the values of the parameters were assigned, we can create a function for pressure calculation using the pressure-explicit form of the van der Waals EoS. Its variables are molar volume ($\\bar{V}$) and temperature ($T$). These last two physical values (molar volume and temperature) will be represented by the variables `Vm` and `T`, respectively. "
   ]
  },
  {
   "cell_type": "code",
   "execution_count": 8,
   "metadata": {
    "collapsed": false
   },
   "outputs": [],
   "source": [
    "def Pressure_van_Der_waals(T,Vm):\n",
    "#define function to calc Pressure from T and V\n",
    "    P = R*T/(Vm-b) - a/(Vm**2)\n",
    "#note that T and Vm used inside the function are the dummy arguments, i.e., the values used in the calculation are the values provided when calling the function.\n",
    "#a and b, on the other hand, are assumed known from the 'namespace' that encompasses that function, in this case, that is the namespace of the python code cells in the whole jupyter notebook being run  \n",
    "#its functioning is quite simple here. however, it requires further comprehension when dealing with different python files and importing different modules.\n",
    "    return P"
   ]
  },
  {
   "cell_type": "code",
   "execution_count": 9,
   "metadata": {
    "collapsed": false,
    "scrolled": true
   },
   "outputs": [
    {
     "data": {
      "image/png": "[encoded data removed]",
      "text/plain": [
       "<matplotlib.figure.Figure at 0x76751d0>"
      ]
     },
     "metadata": {},
     "output_type": "display_data"
    }
   ],
   "source": [
    "fig = plt.figure(1) #activate a figure\n",
    "\n",
    "for T in np.array([.1,.25,.5,.75,1,2])*Tc:\n",
    "#--------numpy.linspace <-- remember in course 1 we used the function \"range\" from python. that function works only for integers.\n",
    "#here we want to make a range of real values. for that, we have to use the functions numpy.arange or numpy.linspace\n",
    "#numpy.linspace works in the following way: we provide a initial value, and end value and the number of values, and it returns us a list with the desired number of values equally spaced in the desired interval\n",
    "    \n",
    "    #array of values for volume\n",
    "    Vmi = np.logspace(np.log10(b*1.01),2+np.log10(R*Tc/Pc),100)\n",
    "    #here we use numpy.log the logarithm function and the linspace function to create a list that is equally spaced in the logarithm scale\n",
    "    #and the numpy.exp,  the numpy exponencial to recover the values displayed in the original scale\n",
    "    #this transformation to logarithm scale is convenient, given that the values obtained from the equation of state encompass several orders of magnitude.\n",
    "\n",
    "    plt.semilogx(Vmi,Pressure_van_Der_waals(T,Vmi),label=str(T)+' K') #create a logarithm vs logarithm scale plot of pressure vs volume, using the function pressure in each value of the volume list\n",
    "    plt.ylabel(r'$P (\\mathrm{Pa})$') #create labels to be displayed in y axis of the plot\n",
    "    plt.xlabel(r'$\\bar{V} (\\mathrm{m^{3}mol^{-1}})$') #use matplotlib's  mathtext to create special symbols in the x label\n",
    "\n",
    "    plt.title('vdW\\'s EoS isotherms \\n (for n-hexane)') #create a title for the figure\n",
    "    plt.ylim(-Pc,Pc*3)#define max and min limits of the y axis only to the positive pressure range. remember that this plot is in logarithm scale and it does not accept negative values.\n",
    "    plt.xlim(b,(R*Tc/Pc)*100) #define max and min limits of the x axis\n",
    "\n",
    "    plt.tick_params( # choose some formatting to the ticks\n",
    "    axis='x',          # changes apply to the x-axis\n",
    "    which='both',      # both major and minor ticks are affected\n",
    "    bottom='on',      # ticks along the bottom edge are off\n",
    "    top='on',         # ticks along the top edge are off\n",
    "    labelbottom='on') # labels along the bottom edge are off\n",
    "\n",
    "plt.legend()    \n",
    "    \n",
    "plt.show() #finally show the plot. It shows in the output section of the cell if the magic command %matplotlib inline was used in the beginning of the notebook\n"
   ]
  },
  {
   "cell_type": "code",
   "execution_count": 19,
   "metadata": {
    "collapsed": false
   },
   "outputs": [
    {
     "data": {
      "image/png": "[encoded data removed]",
      "text/plain": [
       "<matplotlib.figure.Figure at 0xb24b588>"
      ]
     },
     "metadata": {},
     "output_type": "display_data"
    }
   ],
   "source": [
    "#bonus: some drafts for saving the fig in publication quality format\n",
    "\n",
    "from matplotlib import rcParams as rc\n",
    "\n",
    "fig_width = 9 / 2.54 #in inches\n",
    "fig_height = 9 / 2.54 #in inches\n",
    "fig_size =  [fig_width,fig_height]\n",
    "\n",
    "#FONTS & TICKS\\n\",\n",
    "params = {'backend': 'ps',\n",
    "'axes.labelsize': 12,  #in pts\n",
    "'font.size': 8, #in pts\n",
    "'legend.fontsize': 8, #in pts\n",
    "'xtick.labelsize': 10, #in pts\n",
    "'ytick.labelsize': 10, #in pts\n",
    "'text.usetex': False,\n",
    "'figure.figsize': fig_size}\n",
    "rc.update(params)\n",
    "\n",
    "\n",
    "fig, ax = plt.subplots(1,1) #activate a figure\n",
    "\n",
    "for T in np.array([.1,.25,.5,.75,1,2])*Tc:\n",
    "#--------numpy.linspace <-- remember in course 1 we used the function \"range\" from python. that function works only for integers.\n",
    "#here we want to make a range of real values. for that, we have to use the functions numpy.arange or numpy.linspace\n",
    "#numpy.linspace works in the following way: we provide a initial value, and end value and the number of values, and it returns us a list with the desired number of values equally spaced in the desired interval\n",
    "    \n",
    "    #array of values for volume\n",
    "    Vmi = np.logspace(np.log10(b*1.01),2+np.log10(R*Tc/Pc),100)\n",
    "    #here we use numpy.log the logarithm function and the linspace function to create a list that is equally spaced in the logarithm scale\n",
    "    #and the numpy.exp,  the numpy exponencial to recover the values displayed in the original scale\n",
    "    #this transformation to logarithm scale is convenient, given that the values obtained from the equation of state encompass several orders of magnitude.\n",
    "\n",
    "    plt.semilogx(Vmi,Pressure_van_Der_waals(T,Vmi),label=str(T)+' K') #create a logarithm vs logarithm scale plot of pressure vs volume, using the function pressure in each value of the volume list\n",
    "    plt.ylabel(r'$P (\\mathrm{Pa})$') #create labels to be displayed in y axis of the plot\n",
    "    plt.xlabel(r'$\\bar{V} (\\mathrm{m^{3}mol^{-1}})$') #use matplotlib's  mathtext to create special symbols in the x label\n",
    "\n",
    "    plt.title('vdW\\'s EoS isotherms \\n (for n-hexane)') #create a title for the figure\n",
    "    plt.ylim(-Pc,Pc*3)#define max and min limits of the y axis only to the positive pressure range. remember that this plot is in logarithm scale and it does not accept negative values.\n",
    "    plt.xlim(b,(R*Tc/Pc)*100) #define max and min limits of the x axis\n",
    "\n",
    "    plt.tick_params( # choose some formatting to the ticks\n",
    "    axis='x',          # changes apply to the x-axis\n",
    "    which='both',      # both major and minor ticks are affected\n",
    "    bottom='on',      # ticks along the bottom edge are off\n",
    "    top='on',         # ticks along the top edge are off\n",
    "    labelbottom='on') # labels along the bottom edge are off\n",
    "\n",
    "plt.legend()    \n",
    "\n",
    "fig.subplots_adjust(left=0.20, right=0.9, top=0.9, bottom=0.14)\n",
    "\n",
    "plt.semilogx([b,100*R*Tc/Pc],[0,0],ls=':',color='k')\n",
    "\n",
    "plt.semilogx([b,100*R*Tc/Pc],[Pc,Pc],ls=':',color='k')\n",
    "\n",
    "ax.ticklabel_format(style = 'sci', axis='y', scilimits=(0,0))\n",
    "\n",
    "fig.savefig('fig1.png', dpi=1000)\n",
    "        \n",
    "plt.show() #finally show the plot. It shows in the output section of the cell if the magic command %matplotlib inline was used in the beginning of the notebook"
   ]
  },
  {
   "cell_type": "markdown",
   "metadata": {},
   "source": [
    "## Conclusion\n",
    "In this notebook, it was demonstrated how to calculate the equilibrium pressure for a pure component as a function of its molar volume and temperature using a cubic equation of state. Isotherms were plotted in a PxV graphic using matplotlib library. After finishing this reading, you should be able to make simple uses of equations of state and create figures using tools from matplotlib, like pyplot. This will be an extremely needed skill in the following steps of this course, provided that we will create several graphic relating different thermodynamic properties. "
   ]
  },
  {
   "cell_type": "markdown",
   "metadata": {},
   "source": [
    "## External references:\n",
    "### On python\n",
    "* Convention for aliases (np, plt, ...): [SciPy / Tutorial](https://docs.scipy.org/doc/scipy-0.18.1/reference/tutorial/general.html)\n",
    "* Numpy tutorial: [scipy / numpy quickstart](https://docs.scipy.org/doc/numpy-dev/user/quickstart.html)\n",
    "* Matplotlib usage: [Matplotlib / usage](matplotlib.org/faq/usage_faq.html)\n",
    "* PyPlot tutorial: [tutorial](http://matplotlib.org/users/pyplot_tutorial.html)\n",
    "* ipython magic command: [ipython / interactive plotting](http://ipython.readthedocs.io/en/stable/interactive/plotting.html)\n",
    "* On the difference between \"package\" and \"module\": [stackoverflow / \"what's the difference between a python module and a python package\"?](http://stackoverflow.com/questions/7948494/whats-the-difference-between-a-python-module-and-a-python-package)\n",
    "\n",
    "### On thermodynamics\n",
    "* Reid, R. C.; Prausnitz, J. M.; Poling, B. E., The properties of gases and liquids, 4th Ed.; McGraw-Hill, 1987."
   ]
  },
  {
   "cell_type": "markdown",
   "metadata": {},
   "source": [
    "## Credits\n",
    "* Initially developed in python 2.7 by Guilherme Carneiro Queiroz da Silva.\n",
    "* Adapted to ipynb with python 3.5 by Iuri Soter Viana Segtovich.\n",
    "* Review - Fernando de Azevedo Medeiros"
   ]
  }
 ],
 "metadata": {
  "anaconda-cloud": {},
  "kernelspec": {
   "display_name": "Python [conda root]",
   "language": "python",
   "name": "conda-root-py"
  },
  "language_info": {
   "codemirror_mode": {
    "name": "ipython",
    "version": 3
   },
   "file_extension": ".py",
   "mimetype": "text/x-python",
   "name": "python",
   "nbconvert_exporter": "python",
   "pygments_lexer": "ipython3",
   "version": "3.5.2"
  }
 },
 "nbformat": 4,
 "nbformat_minor": 0
}